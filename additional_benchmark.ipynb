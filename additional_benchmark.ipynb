{
 "cells": [
  {
   "cell_type": "code",
   "execution_count": 1,
   "metadata": {},
   "outputs": [],
   "source": [
    "from src.benchmark import summarize_benchmark, benchmark_visualization, benchmark\n",
    "from src.consistency_evaluation import consistency_evaluation\n",
    "from additional_benchmark_configures import configurations,scoring, data_dir, centers, max_iter, n_tests, seed\n",
    "from src.utils import create_dir_if_not_exist\n",
    "import os\n",
    "import warnings\n",
    "warnings.filterwarnings('ignore')"
   ]
  },
  {
   "cell_type": "code",
   "execution_count": 2,
   "metadata": {},
   "outputs": [
    {
     "name": "stderr",
     "output_type": "stream",
     "text": [
      "benchmark with iTransplant (XxO) ...: 100%|██████████| 8/8 [2:02:37<00:00, 919.72s/it]\n"
     ]
    }
   ],
   "source": [
    "report_dir = os.path.join('report','appendix','benchmark')\n",
    "benchmark(data_dir, report_dir, centers, configurations, scoring, n_tests=n_tests, max_iter=max_iter, seed=seed)"
   ]
  },
  {
   "cell_type": "markdown",
   "metadata": {},
   "source": [
    "# Results for the appendix"
   ]
  },
  {
   "cell_type": "markdown",
   "metadata": {},
   "source": [
    "## Benchmark results"
   ]
  },
  {
   "cell_type": "code",
   "execution_count": 3,
   "metadata": {},
   "outputs": [
    {
     "name": "stdout",
     "output_type": "stream",
     "text": [
      "==== Summary of benchmark results ====\n",
      "| model                                                    | AUC-ROC     | AUC-PRC     | NLL          |\n",
      "|:---------------------------------------------------------|:------------|:------------|:-------------|\n",
      "| BC (C)                                                   | 0.806±0.059 | 0.361±0.073 | -0.515±0.072 |\n",
      "| BC (XxO)                                                 | 0.899±0.042 | 0.505±0.067 | -0.390±0.070 |\n",
      "| INVASE (XxC)                                             | 0.879±0.050 | 0.447±0.072 | -0.416±0.084 |\n",
      "| INVASE (XxO)                                             | 0.875±0.048 | 0.451±0.075 | -0.399±0.098 |\n",
      "| LASSO (XxC)                                              | 0.875±0.053 | 0.439±0.066 | -0.482±0.049 |\n",
      "| LASSO (XxO)                                              | 0.877±0.051 | 0.443±0.064 | -0.478±0.048 |\n",
      "| Per-cluster Logistic Regression (with interaction terms) | 0.824±0.054 | 0.371±0.073 | -0.490±0.063 |\n",
      "| iTransplant (XxO)                                        | 0.898±0.048 | 0.508±0.064 | -0.385±0.076 |\n"
     ]
    }
   ],
   "source": [
    "benchmark_results, stats = summarize_benchmark(report_dir,use_redefined_row_order=False)"
   ]
  },
  {
   "cell_type": "code",
   "execution_count": null,
   "metadata": {},
   "outputs": [],
   "source": []
  }
 ],
 "metadata": {
  "interpreter": {
   "hash": "4a31e7e809a10e658f4dc65b5c9ffad007ed2a69589ea27cb5e2cca7a70d89d4"
  },
  "kernelspec": {
   "display_name": "Python 3 (ipykernel)",
   "language": "python",
   "name": "python3"
  },
  "language_info": {
   "codemirror_mode": {
    "name": "ipython",
    "version": 3
   },
   "file_extension": ".py",
   "mimetype": "text/x-python",
   "name": "python",
   "nbconvert_exporter": "python",
   "pygments_lexer": "ipython3",
   "version": "3.9.9"
  }
 },
 "nbformat": 4,
 "nbformat_minor": 2
}
