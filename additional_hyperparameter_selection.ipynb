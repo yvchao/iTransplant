{
 "cells": [
  {
   "cell_type": "code",
   "execution_count": 1,
   "metadata": {},
   "outputs": [],
   "source": [
    "from src.hyperparameter_selection import hyperparameter_search, read_optimal_hyperparameter\n",
    "from additional_hyperparameter_selection_configures import configurations, data_dir, center, max_iter, cv_split, seed\n",
    "import os\n",
    "import warnings\n",
    "warnings.filterwarnings('ignore')"
   ]
  },
  {
   "cell_type": "markdown",
   "metadata": {},
   "source": [
    "## Hyperparameter selection for results in the main manuscript"
   ]
  },
  {
   "cell_type": "code",
   "execution_count": 2,
   "metadata": {},
   "outputs": [
    {
     "name": "stderr",
     "output_type": "stream",
     "text": [
      "searching hyperparameters for iTransplant (XxO) ...: 100%|██████████| 8/8 [4:22:01<00:00, 1965.17s/it]\n"
     ]
    }
   ],
   "source": [
    "report_dir = os.path.join('report','appendix','hyperparameter_selection')\n",
    "\n",
    "hyperparameter_search(data_dir, report_dir, center, configurations, cv_split=cv_split, max_iter=max_iter, seed=seed, verbose=0)"
   ]
  },
  {
   "cell_type": "code",
   "execution_count": 3,
   "metadata": {},
   "outputs": [],
   "source": [
    "report_of_optimal_parameters = os.path.join(report_dir,'hyperparameter_selection_results.md')\n",
    "with open(report_of_optimal_parameters, 'w') as text_file:\n",
    "    for configuration in configurations:\n",
    "        description=configuration['description']\n",
    "        optimal_parameters = read_optimal_hyperparameter(description, report_dir, metric='NLL')\n",
    "        text_file.write(f'### optimal hyperparameters for {description}:\\n')\n",
    "        text_file.write(optimal_parameters.to_markdown())\n",
    "        text_file.write('\\n')"
   ]
  },
  {
   "cell_type": "code",
   "execution_count": 4,
   "metadata": {},
   "outputs": [
    {
     "data": {
      "text/markdown": [
       "### optimal hyperparameters for LASSO (XxC):\n",
       "|   rank_test_NLL |   alpha |   mean_test_NLL |\n",
       "|----------------:|--------:|----------------:|\n",
       "|               1 |    0.01 |       -0.616804 |\n",
       "|               2 |    0.1  |       -0.693147 |\n",
       "### optimal hyperparameters for LASSO (XxO):\n",
       "|   rank_test_NLL |   alpha |   mean_test_NLL |\n",
       "|----------------:|--------:|----------------:|\n",
       "|               1 |    0.01 |       -0.610518 |\n",
       "|               2 |    0.1  |       -0.693147 |\n",
       "### optimal hyperparameters for Logistic Regression (with interaction terms):\n",
       "|   rank_test_NLL |   n_clusters |   mean_test_NLL |\n",
       "|----------------:|-------------:|----------------:|\n",
       "|               1 |            4 |       -0.612574 |\n",
       "|               2 |            2 |       -0.613618 |\n",
       "### optimal hyperparameters for INVASE (XxC):\n",
       "|   rank_test_NLL |   h_dim |   lambda_ |   num_layers |   mean_test_NLL |\n",
       "|----------------:|--------:|----------:|-------------:|----------------:|\n",
       "|               1 |      30 |      0.1  |            2 |       -0.56164  |\n",
       "|               2 |      20 |      0.01 |            2 |       -0.573098 |\n",
       "### optimal hyperparameters for INVASE (XxO):\n",
       "|   rank_test_NLL |   h_dim |   lambda_ |   num_layers |   mean_test_NLL |\n",
       "|----------------:|--------:|----------:|-------------:|----------------:|\n",
       "|               1 |      20 |       0.1 |            4 |       -0.592276 |\n",
       "|               2 |      20 |       0.1 |            2 |       -0.599084 |\n",
       "### optimal hyperparameters for BC (C):\n",
       "|   rank_test_NLL |   h_dim |   num_layers |   mean_test_NLL |\n",
       "|----------------:|--------:|-------------:|----------------:|\n",
       "|               1 |      10 |            8 |       -0.62825  |\n",
       "|               2 |      20 |            8 |       -0.637243 |\n",
       "### optimal hyperparameters for BC (XxO):\n",
       "|   rank_test_NLL |   h_dim |   num_layers |   mean_test_NLL |\n",
       "|----------------:|--------:|-------------:|----------------:|\n",
       "|               1 |      10 |            2 |       -0.559195 |\n",
       "|               2 |      30 |            6 |       -0.559851 |\n",
       "### optimal hyperparameters for iTransplant (XxO):\n",
       "|   rank_test_NLL |   h_dim |   k |   lambda_ |   num_experts |   num_layers |   mean_test_NLL |\n",
       "|----------------:|--------:|----:|----------:|--------------:|-------------:|----------------:|\n",
       "|               1 |      30 |   8 |      0.01 |            10 |            2 |       -0.559855 |\n",
       "|               2 |      40 |   8 |      0.01 |            10 |            2 |       -0.560628 |\n"
      ],
      "text/plain": [
       "<IPython.core.display.Markdown object>"
      ]
     },
     "metadata": {},
     "output_type": "display_data"
    }
   ],
   "source": [
    "from IPython.display import Markdown, display\n",
    "\n",
    "display(Markdown(report_of_optimal_parameters))"
   ]
  },
  {
   "cell_type": "code",
   "execution_count": null,
   "metadata": {},
   "outputs": [],
   "source": []
  }
 ],
 "metadata": {
  "interpreter": {
   "hash": "4a31e7e809a10e658f4dc65b5c9ffad007ed2a69589ea27cb5e2cca7a70d89d4"
  },
  "kernelspec": {
   "display_name": "Python 3.8.7 64-bit ('3.8.7': pyenv)",
   "name": "python3"
  },
  "language_info": {
   "codemirror_mode": {
    "name": "ipython",
    "version": 3
   },
   "file_extension": ".py",
   "mimetype": "text/x-python",
   "name": "python",
   "nbconvert_exporter": "python",
   "pygments_lexer": "ipython3",
   "version": "3.8.7"
  },
  "orig_nbformat": 4
 },
 "nbformat": 4,
 "nbformat_minor": 2
}
