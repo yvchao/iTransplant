{
 "cells": [
  {
   "cell_type": "code",
   "execution_count": 1,
   "metadata": {},
   "outputs": [],
   "source": [
    "from src.hyperparameter_selection import hyperparameter_search, read_optimal_hyperparameter\n",
    "from hyperparameter_selection_configures import configurations, data_dir, center, max_iter, cv_split, seed\n",
    "import os"
   ]
  },
  {
   "cell_type": "markdown",
   "metadata": {},
   "source": [
    "## Hyperparameter selection for results in the main manuscript"
   ]
  },
  {
   "cell_type": "code",
   "execution_count": 2,
   "metadata": {},
   "outputs": [
    {
     "name": "stderr",
     "output_type": "stream",
     "text": [
      "100%|██████████| 8/8 [00:00<00:00, 456.66it/s]\n"
     ]
    }
   ],
   "source": [
    "report_dir = os.path.join('report','main','hyperparameter_selection')\n",
    "\n",
    "hyperparameter_search(data_dir, report_dir, center, configurations, cv_split=cv_split, max_iter=max_iter, seed=seed, verbose=0)"
   ]
  },
  {
   "cell_type": "code",
   "execution_count": 3,
   "metadata": {},
   "outputs": [],
   "source": [
    "report_of_optimal_parameters = os.path.join(report_dir,'hyperparameter_selection_results.md')\n",
    "with open(report_of_optimal_parameters, 'w') as text_file:\n",
    "    for configuration in configurations:\n",
    "        description=configuration['description']\n",
    "        optimal_parameters = read_optimal_hyperparameter(description, report_dir, metric='NLL')\n",
    "        text_file.write(f'### optimal hyperparameters for {description}:\\n')\n",
    "        text_file.write(optimal_parameters.to_markdown())\n",
    "        text_file.write('\\n')"
   ]
  },
  {
   "cell_type": "code",
   "execution_count": 4,
   "metadata": {},
   "outputs": [
    {
     "data": {
      "text/markdown": [
       "### optimal hyperparameters for LASSO:\n",
       "|   rank_test_NLL |   alpha |   mean_test_NLL |\n",
       "|----------------:|--------:|----------------:|\n",
       "|               1 |    0.01 |       -0.653749 |\n",
       "|               2 |    0.1  |       -0.693147 |\n",
       "### optimal hyperparameters for Random Forest:\n",
       "|   rank_test_NLL |   max_depth |   n_estimators |   mean_test_NLL |\n",
       "|----------------:|------------:|---------------:|----------------:|\n",
       "|               1 |          15 |            150 |       -0.562096 |\n",
       "|               2 |          15 |            100 |       -0.565304 |\n",
       "### optimal hyperparameters for Decision Tree:\n",
       "|   rank_test_NLL |   max_depth |   n_clusters |   mean_test_NLL |\n",
       "|----------------:|------------:|-------------:|----------------:|\n",
       "|               1 |           5 |            1 |       -0.714422 |\n",
       "|               2 |           5 |            2 |       -0.718776 |\n",
       "### optimal hyperparameters for Logistic Regression:\n",
       "|   rank_test_NLL |   n_clusters |   mean_test_NLL |\n",
       "|----------------:|-------------:|----------------:|\n",
       "|               1 |            2 |       -0.619482 |\n",
       "|               2 |            4 |       -0.619991 |\n",
       "### optimal hyperparameters for iTransplant:\n",
       "|   rank_test_NLL |   h_dim |   k |   lambda_ |   num_experts |   num_layers |   mean_test_NLL |\n",
       "|----------------:|--------:|----:|----------:|--------------:|-------------:|----------------:|\n",
       "|               1 |      30 |   8 |      0.01 |            20 |            1 |       -0.568438 |\n",
       "|               2 |      50 |   8 |      0.01 |            20 |            1 |       -0.570244 |\n",
       "### optimal hyperparameters for INVASE:\n",
       "|   rank_test_NLL |   h_dim |   lambda_ |   num_layers |   mean_test_NLL |\n",
       "|----------------:|--------:|----------:|-------------:|----------------:|\n",
       "|               1 |      30 |      0.01 |            2 |       -0.621678 |\n",
       "|               2 |      20 |      0.01 |            2 |       -0.623927 |\n",
       "### optimal hyperparameters for BC:\n",
       "|   rank_test_NLL |   h_dim |   num_layers |   mean_test_NLL |\n",
       "|----------------:|--------:|-------------:|----------------:|\n",
       "|               1 |      50 |            4 |       -0.550294 |\n",
       "|               2 |      50 |            2 |       -0.557854 |\n",
       "### optimal hyperparameters for LOWESS:\n",
       "|   rank_test_NLL |   tau |   mean_test_NLL |\n",
       "|----------------:|------:|----------------:|\n",
       "|               1 |     1 |       -0.438707 |\n",
       "|               2 |    10 |       -0.462639 |\n"
      ],
      "text/plain": [
       "<IPython.core.display.Markdown object>"
      ]
     },
     "metadata": {},
     "output_type": "display_data"
    }
   ],
   "source": [
    "from IPython.display import Markdown, display\n",
    "\n",
    "display(Markdown(report_of_optimal_parameters))"
   ]
  },
  {
   "cell_type": "code",
   "execution_count": null,
   "metadata": {},
   "outputs": [],
   "source": []
  }
 ],
 "metadata": {
  "interpreter": {
   "hash": "4a31e7e809a10e658f4dc65b5c9ffad007ed2a69589ea27cb5e2cca7a70d89d4"
  },
  "kernelspec": {
   "display_name": "Python 3.8.7 64-bit ('3.8.7': pyenv)",
   "name": "python3"
  },
  "language_info": {
   "codemirror_mode": {
    "name": "ipython",
    "version": 3
   },
   "file_extension": ".py",
   "mimetype": "text/x-python",
   "name": "python",
   "nbconvert_exporter": "python",
   "pygments_lexer": "ipython3",
   "version": "3.8.7"
  },
  "orig_nbformat": 4
 },
 "nbformat": 4,
 "nbformat_minor": 2
}
